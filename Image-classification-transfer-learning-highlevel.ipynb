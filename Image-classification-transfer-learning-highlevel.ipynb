{
 "cells": [
  {
   "cell_type": "markdown",
   "metadata": {},
   "source": [
    "# Image classification transfer learning demo\n",
    "\n",
    "1. [Introduction](#Introduction)\n",
    "2. [Prerequisites and Preprocessing](#Prequisites-and-Preprocessing)\n",
    "3. [Fine-tuning the Image classification model](#Fine-tuning-the-Image-classification-model)\n",
    "4. [Training parameters](#Training-parameters)\n",
    "5. [Start the training](#Start-the-training)\n",
    "6. [Inference](#Inference)\n"
   ]
  },
  {
   "cell_type": "markdown",
   "metadata": {},
   "source": [
    "## Introduction\n",
    "\n",
    "Welcome to our end-to-end example of distributed image classification algorithm in transfer learning mode. In this demo, we will use the Amazon sagemaker image classification algorithm in transfer learning mode to fine-tune a pre-trained model (trained on imagenet data) to learn to classify a new dataset. In particular, the pre-trained model will be fine-tuned using custom dataset created before. \n",
    "\n",
    "To get started, we need to set up the environment with a few prerequisite steps, for permissions, configurations, and so on.\n",
    "\n",
    "This ipython notebook is copied by SageMaker example, we change the origin public dataset as our custom dataset (use crawler.py to get the images and create the recordIO file). You can read these script files for more details and learn how to build your own dataset and train your own model as a fast and accurate way if you have no ML experience."
   ]
  },
  {
   "cell_type": "markdown",
   "metadata": {},
   "source": [
    "## Prequisites and Preprocessing\n",
    "\n",
    "### Permissions and environment variables\n",
    "\n",
    "Here we set up the linkage and authentication to AWS services. There are three parts to this:\n",
    "\n",
    "* The roles used to give learning and hosting access to your data. This will automatically be obtained from the role used to start the notebook\n",
    "* The S3 bucket that you want to use for training and model data\n",
    "* The Amazon sagemaker image classification docker image which need not be changed"
   ]
  },
  {
   "cell_type": "code",
   "execution_count": 12,
   "metadata": {},
   "outputs": [
    {
     "name": "stdout",
     "output_type": "stream",
     "text": [
      "arn:aws:iam::960874792644:role/service-role/AmazonSageMaker-ExecutionRole-20180417T212145\n"
     ]
    },
    {
     "name": "stderr",
     "output_type": "stream",
     "text": [
      "INFO:sagemaker:Created S3 bucket: sagemaker-us-east-1-960874792644\n"
     ]
    },
    {
     "name": "stdout",
     "output_type": "stream",
     "text": [
      "CPU times: user 117 ms, sys: 17.1 ms, total: 134 ms\n",
      "Wall time: 297 ms\n"
     ]
    }
   ],
   "source": [
    "%%time\n",
    "import sagemaker\n",
    "from sagemaker import get_execution_role\n",
    "\n",
    "role = get_execution_role()\n",
    "print(role)\n",
    "\n",
    "sess = sagemaker.Session()\n",
    "bucket = sess.default_bucket()\n",
    "prefix = 'ic-transfer-learning'"
   ]
  },
  {
   "cell_type": "code",
   "execution_count": 13,
   "metadata": {},
   "outputs": [
    {
     "name": "stdout",
     "output_type": "stream",
     "text": [
      "811284229777.dkr.ecr.us-east-1.amazonaws.com/image-classification:latest\n"
     ]
    }
   ],
   "source": [
    "from sagemaker.amazon.amazon_estimator import get_image_uri\n",
    "\n",
    "training_image = get_image_uri(sess.boto_region_name, 'image-classification', repo_version=\"latest\")\n",
    "print (training_image)"
   ]
  },
  {
   "cell_type": "markdown",
   "metadata": {},
   "source": [
    "## Fine-tuning the Image classification model\n",
    "\n",
    "The custom dateset 4 dataset consist of images from 4 categories and has 3k images with a minimum of 400 images and a maximum of about 1400 images per category. \n",
    "\n",
    "The image classification algorithm can take two types of input formats. The first is a [recordio format](https://mxnet.incubator.apache.org/tutorials/basic/record_io.html) and the other is a [lst format](https://mxnet.incubator.apache.org/how_to/recordio.html?highlight=im2rec). Files for both these formats are available at this folder (You need to run transfer-learning-setup.sh first). In this example, we will use the recordio format for training and use the training/validation split by this script lst_handler.py."
   ]
  },
  {
   "cell_type": "code",
   "execution_count": 14,
   "metadata": {},
   "outputs": [],
   "source": [
    "import os\n",
    "import urllib.request\n",
    "import boto3\n",
    "        \n",
    "def upload_to_s3(channel, file):\n",
    "    s3 = boto3.resource('s3')\n",
    "    data = open(file, \"rb\")\n",
    "    key = channel + '/' + file\n",
    "    s3.Bucket(bucket).put_object(Key=key, Body=data)\n",
    "\n",
    "upload_to_s3('validation', 'train_val.rec')\n",
    "upload_to_s3('train', 'train_train.rec')"
   ]
  },
  {
   "cell_type": "code",
   "execution_count": 15,
   "metadata": {},
   "outputs": [],
   "source": [
    "# Four channels: train, validation, train_lst, and validation_lst\n",
    "s3train = 's3://{}/{}/train/'.format(bucket, prefix)\n",
    "s3validation = 's3://{}/{}/validation/'.format(bucket, prefix)\n",
    "\n",
    "# upload the lst files to train and validation channels\n",
    "!aws s3 cp train_train.rec $s3train --quiet\n",
    "!aws s3 cp train_val.rec $s3validation --quiet"
   ]
  },
  {
   "cell_type": "markdown",
   "metadata": {},
   "source": [
    "Once we have the data available in the correct format for training, the next step is to actually train the model using the data. Before training the model, we need to setup the training parameters. The next section will explain the parameters in detail."
   ]
  },
  {
   "cell_type": "markdown",
   "metadata": {},
   "source": [
    "## Training\n",
    "Now that we are done with all the setup that is needed, we are ready to train our object detector. To begin, let us create a ``sageMaker.estimator.Estimator`` object. This estimator will launch the training job.\n",
    "### Training parameters\n",
    "There are two kinds of parameters that need to be set for training. The first one are the parameters for the training job. These include:\n",
    "\n",
    "* **Training instance count**: This is the number of instances on which to run the training. When the number of instances is greater than one, then the image classification algorithm will run in distributed settings. \n",
    "* **Training instance type**: This indicates the type of machine on which to run the training. Typically, we use GPU instances for these training \n",
    "* **Output path**: This the s3 folder in which the training output is stored"
   ]
  },
  {
   "cell_type": "code",
   "execution_count": 24,
   "metadata": {},
   "outputs": [],
   "source": [
    "s3_output_location = 's3://{}/{}/output'.format(bucket, prefix)\n",
    "ic = sagemaker.estimator.Estimator(training_image,\n",
    "                                         role, \n",
    "                                         train_instance_count=1, \n",
    "                                         train_instance_type='ml.p2.xlarge',\n",
    "                                         train_volume_size = 50,\n",
    "                                         train_max_run = 360000,\n",
    "                                         input_mode= 'File',\n",
    "                                         output_path=s3_output_location,\n",
    "                                         sagemaker_session=sess)"
   ]
  },
  {
   "cell_type": "markdown",
   "metadata": {},
   "source": [
    "Apart from the above set of parameters, there are hyperparameters that are specific to the algorithm. These are:\n",
    "\n",
    "* **num_layers**: The number of layers (depth) for the network. We use 18 in this samples but other values such as 50, 152 can be used.\n",
    "* **use_pretrained_model**: Set to 1 to use pretrained model for transfer learning.\n",
    "* **image_shape**: The input image dimensions,'num_channels, height, width', for the network. It should be no larger than the actual image size. The number of channels should be same as the actual image.\n",
    "* **num_classes**: This is the number of output classes for the new dataset. Imagenet was trained with 1000 output classes but the number of output classes can be changed for fine-tuning. For custom dataset, we use 4 because it has 4 object categories.\n",
    "* **num_training_samples**: This is the total number of training samples. It is set to 3300 for caltech dataset with the current split.\n",
    "* **mini_batch_size**: The number of training samples used for each mini batch. In distributed training, the number of training samples used per batch will be N * mini_batch_size where N is the number of hosts on which training is run.\n",
    "* **epochs**: Number of training epochs.\n",
    "* **learning_rate**: Learning rate for training.\n",
    "* **precision_dtype**: Training datatype precision (default: float32). If set to 'float16', the training will be done in mixed_precision mode and will be faster than float32 mode\n"
   ]
  },
  {
   "cell_type": "code",
   "execution_count": 25,
   "metadata": {
    "isConfigCell": true
   },
   "outputs": [],
   "source": [
    "ic.set_hyperparameters(num_layers=18,\n",
    "                             use_pretrained_model=1,\n",
    "                             image_shape = \"3,224,224\",\n",
    "                             num_classes=4,\n",
    "                             num_training_samples=3329,\n",
    "                             mini_batch_size=12,\n",
    "                             epochs=2,\n",
    "                             learning_rate=0.001,\n",
    "                             precision_dtype='float32')"
   ]
  },
  {
   "cell_type": "markdown",
   "metadata": {},
   "source": [
    "## Input data specification\n",
    "Set the data type and channels used for training"
   ]
  },
  {
   "cell_type": "code",
   "execution_count": 26,
   "metadata": {},
   "outputs": [],
   "source": [
    "train_data = sagemaker.session.s3_input(s3train, distribution='FullyReplicated', \n",
    "                        content_type='application/x-recordio', s3_data_type='S3Prefix')\n",
    "validation_data = sagemaker.session.s3_input(s3validation, distribution='FullyReplicated', \n",
    "                             content_type='application/x-recordio', s3_data_type='S3Prefix')\n",
    "\n",
    "data_channels = {'train': train_data, 'validation': validation_data}"
   ]
  },
  {
   "cell_type": "markdown",
   "metadata": {},
   "source": [
    "## Start the training\n",
    "Start training by calling the fit method in the estimator"
   ]
  },
  {
   "cell_type": "code",
   "execution_count": 27,
   "metadata": {},
   "outputs": [
    {
     "name": "stderr",
     "output_type": "stream",
     "text": [
      "INFO:sagemaker:Creating training-job with name: image-classification-2018-12-18-08-06-25-495\n"
     ]
    },
    {
     "name": "stdout",
     "output_type": "stream",
     "text": [
      "2018-12-18 08:06:25 Starting - Starting the training job...\n",
      "2018-12-18 08:06:35 Starting - Launching requested ML instances......\n",
      "2018-12-18 08:07:37 Starting - Preparing the instances for training......\n",
      "2018-12-18 08:08:38 Downloading - Downloading input data...\n",
      "2018-12-18 08:09:10 Training - Downloading the training image........\n",
      "\u001b[31mDocker entrypoint called with argument(s): train\u001b[0m\n",
      "\u001b[31m[12/18/2018 08:10:33 INFO 139732386527040] Reading default configuration from /opt/amazon/lib/python2.7/site-packages/image_classification/default-input.json: {u'beta_1': 0.9, u'gamma': 0.9, u'beta_2': 0.999, u'optimizer': u'sgd', u'use_pretrained_model': 0, u'eps': 1e-08, u'epochs': 30, u'lr_scheduler_factor': 0.1, u'num_layers': 152, u'image_shape': u'3,224,224', u'precision_dtype': u'float32', u'mini_batch_size': 32, u'weight_decay': 0.0001, u'learning_rate': 0.1, u'momentum': 0}\u001b[0m\n",
      "\u001b[31m2018-12-18 08:10:33 Reading default configuration from /opt/amazon/lib/python2.7/site-packages/image_classification/default-input.json: {u'beta_1': 0.9, u'gamma': 0.9, u'beta_2': 0.999, u'optimizer': u'sgd', u'use_pretrained_model': 0, u'eps': 1e-08, u'epochs': 30, u'lr_scheduler_factor': 0.1, u'num_layers': 152, u'image_shape': u'3,224,224', u'precision_dtype': u'float32', u'mini_batch_size': 32, u'weight_decay': 0.0001, u'learning_rate': 0.1, u'momentum': 0}\u001b[0m\n",
      "\u001b[31m[12/18/2018 08:10:33 INFO 139732386527040] Reading provided configuration from /opt/ml/input/config/hyperparameters.json: {u'learning_rate': u'0.001', u'use_pretrained_model': u'1', u'epochs': u'2', u'num_training_samples': u'3329', u'num_layers': u'18', u'image_shape': u'3,224,224', u'mini_batch_size': u'12', u'precision_dtype': u'float32', u'num_classes': u'4'}\u001b[0m\n",
      "\u001b[31m2018-12-18 08:10:33 Reading provided configuration from /opt/ml/input/config/hyperparameters.json: {u'learning_rate': u'0.001', u'use_pretrained_model': u'1', u'epochs': u'2', u'num_training_samples': u'3329', u'num_layers': u'18', u'image_shape': u'3,224,224', u'mini_batch_size': u'12', u'precision_dtype': u'float32', u'num_classes': u'4'}\u001b[0m\n",
      "\u001b[31m2018-12-18 08:10:33 Final configuration: {u'optimizer': u'sgd', u'learning_rate': u'0.001', u'epochs': u'2', u'lr_scheduler_factor': 0.1, u'num_layers': u'18', u'precision_dtype': u'float32', u'mini_batch_size': u'12', u'num_classes': u'4', u'beta_1': 0.9, u'beta_2': 0.999, u'use_pretrained_model': u'1', u'eps': 1e-08, u'weight_decay': 0.0001, u'momentum': 0, u'image_shape': u'3,224,224', u'gamma': 0.9, u'num_training_samples': u'3329'}\u001b[0m\n",
      "\u001b[31m[12/18/2018 08:10:33 INFO 139732386527040] Final configuration: {u'optimizer': u'sgd', u'learning_rate': u'0.001', u'epochs': u'2', u'lr_scheduler_factor': 0.1, u'num_layers': u'18', u'precision_dtype': u'float32', u'mini_batch_size': u'12', u'num_classes': u'4', u'beta_1': 0.9, u'beta_2': 0.999, u'use_pretrained_model': u'1', u'eps': 1e-08, u'weight_decay': 0.0001, u'momentum': 0, u'image_shape': u'3,224,224', u'gamma': 0.9, u'num_training_samples': u'3329'}\u001b[0m\n",
      "\u001b[31m2018-12-18 08:10:33 Using pretrained model for initalizing weights and transfer learning\u001b[0m\n",
      "\u001b[31m[12/18/2018 08:10:33 INFO 139732386527040] Using pretrained model for initalizing weights and transfer learning\u001b[0m\n",
      "\u001b[31m2018-12-18 08:10:33 ---- Parameters ----\u001b[0m\n",
      "\u001b[31m[12/18/2018 08:10:33 INFO 139732386527040] ---- Parameters ----\u001b[0m\n",
      "\u001b[31m2018-12-18 08:10:33 num_layers: 18\u001b[0m\n",
      "\u001b[31m[12/18/2018 08:10:33 INFO 139732386527040] num_layers: 18\u001b[0m\n",
      "\u001b[31m2018-12-18 08:10:33 data type: <type 'numpy.float32'>\u001b[0m\n",
      "\u001b[31m[12/18/2018 08:10:33 INFO 139732386527040] data type: <type 'numpy.float32'>\u001b[0m\n",
      "\u001b[31m2018-12-18 08:10:33 epochs: 2\u001b[0m\n",
      "\u001b[31m[12/18/2018 08:10:33 INFO 139732386527040] epochs: 2\u001b[0m\n",
      "\u001b[31m2018-12-18 08:10:33 optimizer: sgd\u001b[0m\n",
      "\u001b[31m[12/18/2018 08:10:33 INFO 139732386527040] optimizer: sgd\u001b[0m\n",
      "\u001b[31m2018-12-18 08:10:33 momentum: 0.900000\u001b[0m\n",
      "\u001b[31m[12/18/2018 08:10:33 INFO 139732386527040] momentum: 0.900000\u001b[0m\n",
      "\u001b[31m2018-12-18 08:10:33 weight_decay: 0.000100\u001b[0m\n",
      "\u001b[31m2018-12-18 08:10:33 learning_rate: 0.001000\u001b[0m\n",
      "\u001b[31m[12/18/2018 08:10:33 INFO 139732386527040] weight_decay: 0.000100\u001b[0m\n",
      "\u001b[31m[12/18/2018 08:10:33 INFO 139732386527040] learning_rate: 0.001000\u001b[0m\n",
      "\u001b[31m2018-12-18 08:10:33 lr_scheduler_step defined without lr_scheduler_factor, will be ignored...\u001b[0m\n",
      "\u001b[31m[12/18/2018 08:10:33 INFO 139732386527040] lr_scheduler_step defined without lr_scheduler_factor, will be ignored...\u001b[0m\n",
      "\u001b[31m[12/18/2018 08:10:33 INFO 139732386527040] mini_batch_size: 12\u001b[0m\n",
      "\u001b[31m2018-12-18 08:10:33 mini_batch_size: 12\u001b[0m\n",
      "\u001b[31m2018-12-18 08:10:33 image_shape: 3,224,224\u001b[0m\n",
      "\u001b[31m[12/18/2018 08:10:33 INFO 139732386527040] image_shape: 3,224,224\u001b[0m\n",
      "\u001b[31m[12/18/2018 08:10:33 INFO 139732386527040] num_classes: 4\u001b[0m\n",
      "\u001b[31m[12/18/2018 08:10:33 INFO 139732386527040] num_training_samples: 3329\u001b[0m\n",
      "\u001b[31m2018-12-18 08:10:33 num_classes: 4\u001b[0m\n",
      "\u001b[31m2018-12-18 08:10:33 num_training_samples: 3329\u001b[0m\n",
      "\u001b[31m[12/18/2018 08:10:33 INFO 139732386527040] augmentation_type: None\u001b[0m\n",
      "\u001b[31m2018-12-18 08:10:33 augmentation_type: None\u001b[0m\n",
      "\u001b[31m2018-12-18 08:10:33 kv_store: device\u001b[0m\n",
      "\u001b[31m[12/18/2018 08:10:33 INFO 139732386527040] kv_store: device\u001b[0m\n",
      "\u001b[31m2018-12-18 08:10:33 checkpoint_frequency not set, will store the best model\u001b[0m\n",
      "\u001b[31m[12/18/2018 08:10:33 INFO 139732386527040] checkpoint_frequency not set, will store the best model\u001b[0m\n",
      "\u001b[31m2018-12-18 08:10:33 multi_label: 0\u001b[0m\n",
      "\u001b[31m[12/18/2018 08:10:33 INFO 139732386527040] multi_label: 0\u001b[0m\n",
      "\u001b[31m2018-12-18 08:10:33 --------------------\u001b[0m\n",
      "\u001b[31m[12/18/2018 08:10:33 INFO 139732386527040] --------------------\u001b[0m\n",
      "\u001b[31m[08:10:33] /opt/brazil-pkg-cache/packages/MXNetECL/MXNetECL-master.349.0/AL2012/generic-flavor/src/src/nnvm/legacy_json_util.cc:209: Loading symbol saved by previous version v0.8.0. Attempting to upgrade...\u001b[0m\n",
      "\u001b[31m[08:10:33] /opt/brazil-pkg-cache/packages/MXNetECL/MXNetECL-master.349.0/AL2012/generic-flavor/src/src/nnvm/legacy_json_util.cc:217: Symbol successfully upgraded!\u001b[0m\n",
      "\u001b[31m2018-12-18 08:10:33 Setting number of threads: 3\u001b[0m\n",
      "\u001b[31m[12/18/2018 08:10:33 INFO 139732386527040] Setting number of threads: 3\u001b[0m\n",
      "\u001b[31m[08:10:39] /opt/brazil-pkg-cache/packages/MXNetECL/MXNetECL-master.349.0/AL2012/generic-flavor/src/src/operator/nn/./cudnn/./cudnn_algoreg-inl.h:97: Running performance tests to find the best convolution algorithm, this can take a while... (setting env variable MXNET_CUDNN_AUTOTUNE_DEFAULT to 0 to disable)\u001b[0m\n",
      "\u001b[31m2018-12-18 08:10:42 Epoch[0] Batch [20]#011Speed: 57.257 samples/sec#011accuracy=0.543651\u001b[0m\n",
      "\u001b[31m[12/18/2018 08:10:42 INFO 139732386527040] Epoch[0] Batch [20]#011Speed: 57.257 samples/sec#011accuracy=0.543651\u001b[0m\n",
      "\n",
      "2018-12-18 08:10:30 Training - Training image download completed. Training in progress.\u001b[31m2018-12-18 08:10:44 Epoch[0] Batch [40]#011Speed: 76.501 samples/sec#011accuracy=0.697154\u001b[0m\n",
      "\u001b[31m[12/18/2018 08:10:44 INFO 139732386527040] Epoch[0] Batch [40]#011Speed: 76.501 samples/sec#011accuracy=0.697154\u001b[0m\n",
      "\u001b[31m2018-12-18 08:10:46 Epoch[0] Batch [60]#011Speed: 86.087 samples/sec#011accuracy=0.752732\u001b[0m\n",
      "\u001b[31m[12/18/2018 08:10:46 INFO 139732386527040] Epoch[0] Batch [60]#011Speed: 86.087 samples/sec#011accuracy=0.752732\u001b[0m\n",
      "\u001b[31m2018-12-18 08:10:49 Epoch[0] Batch [80]#011Speed: 91.831 samples/sec#011accuracy=0.791152\u001b[0m\n",
      "\u001b[31m[12/18/2018 08:10:49 INFO 139732386527040] Epoch[0] Batch [80]#011Speed: 91.831 samples/sec#011accuracy=0.791152\u001b[0m\n",
      "\u001b[31m2018-12-18 08:10:51 Epoch[0] Batch [100]#011Speed: 95.659 samples/sec#011accuracy=0.816832\u001b[0m\n",
      "\u001b[31m[12/18/2018 08:10:51 INFO 139732386527040] Epoch[0] Batch [100]#011Speed: 95.659 samples/sec#011accuracy=0.816832\u001b[0m\n",
      "\u001b[31m2018-12-18 08:10:53 Epoch[0] Batch [120]#011Speed: 98.312 samples/sec#011accuracy=0.834711\u001b[0m\n",
      "\u001b[31m[12/18/2018 08:10:53 INFO 139732386527040] Epoch[0] Batch [120]#011Speed: 98.312 samples/sec#011accuracy=0.834711\u001b[0m\n",
      "\u001b[31m2018-12-18 08:10:55 Epoch[0] Batch [140]#011Speed: 100.295 samples/sec#011accuracy=0.846336\u001b[0m\n",
      "\u001b[31m[12/18/2018 08:10:55 INFO 139732386527040] Epoch[0] Batch [140]#011Speed: 100.295 samples/sec#011accuracy=0.846336\u001b[0m\n",
      "\u001b[31m2018-12-18 08:10:57 Epoch[0] Batch [160]#011Speed: 101.781 samples/sec#011accuracy=0.853002\u001b[0m\n",
      "\u001b[31m[12/18/2018 08:10:57 INFO 139732386527040] Epoch[0] Batch [160]#011Speed: 101.781 samples/sec#011accuracy=0.853002\u001b[0m\n",
      "\u001b[31m2018-12-18 08:10:59 Epoch[0] Batch [180]#011Speed: 102.940 samples/sec#011accuracy=0.860037\u001b[0m\n",
      "\u001b[31m[12/18/2018 08:10:59 INFO 139732386527040] Epoch[0] Batch [180]#011Speed: 102.940 samples/sec#011accuracy=0.860037\u001b[0m\n",
      "\u001b[31m[12/18/2018 08:11:01 INFO 139732386527040] Epoch[0] Batch [200]#011Speed: 103.913 samples/sec#011accuracy=0.867330\u001b[0m\n",
      "\u001b[31m2018-12-18 08:11:01 Epoch[0] Batch [200]#011Speed: 103.913 samples/sec#011accuracy=0.867330\u001b[0m\n",
      "\u001b[31m2018-12-18 08:11:03 Epoch[0] Batch [220]#011Speed: 104.701 samples/sec#011accuracy=0.874057\u001b[0m\n",
      "\u001b[31m[12/18/2018 08:11:03 INFO 139732386527040] Epoch[0] Batch [220]#011Speed: 104.701 samples/sec#011accuracy=0.874057\u001b[0m\n",
      "\u001b[31m2018-12-18 08:11:05 Epoch[0] Batch [240]#011Speed: 105.469 samples/sec#011accuracy=0.877248\u001b[0m\n",
      "\u001b[31m[12/18/2018 08:11:05 INFO 139732386527040] Epoch[0] Batch [240]#011Speed: 105.469 samples/sec#011accuracy=0.877248\u001b[0m\n",
      "\u001b[31m2018-12-18 08:11:08 Epoch[0] Batch [260]#011Speed: 106.143 samples/sec#011accuracy=0.881545\u001b[0m\n",
      "\u001b[31m[12/18/2018 08:11:08 INFO 139732386527040] Epoch[0] Batch [260]#011Speed: 106.143 samples/sec#011accuracy=0.881545\u001b[0m\n",
      "\u001b[31m2018-12-18 08:11:09 Epoch[0] Train-accuracy=0.886282\u001b[0m\n",
      "\u001b[31m2018-12-18 08:11:09 Epoch[0] Time cost=31.066\u001b[0m\n",
      "\u001b[31m[12/18/2018 08:11:09 INFO 139732386527040] Epoch[0] Train-accuracy=0.886282\u001b[0m\n",
      "\u001b[31m[12/18/2018 08:11:09 INFO 139732386527040] Epoch[0] Time cost=31.066\u001b[0m\n",
      "\u001b[31m2018-12-18 08:11:11 Epoch[0] Validation-accuracy=0.983871\u001b[0m\n",
      "\u001b[31m[12/18/2018 08:11:11 INFO 139732386527040] Epoch[0] Validation-accuracy=0.983871\u001b[0m\n",
      "\u001b[31m2018-12-18 08:11:11 Storing the best model with validation accuracy: 0.983871\u001b[0m\n",
      "\u001b[31m[12/18/2018 08:11:11 INFO 139732386527040] Storing the best model with validation accuracy: 0.983871\u001b[0m\n",
      "\u001b[31m[12/18/2018 08:11:11 INFO 139732386527040] Saved checkpoint to \"/opt/ml/model/image-classification-0001.params\"\u001b[0m\n",
      "\u001b[31m2018-12-18 08:11:11 Saved checkpoint to \"/opt/ml/model/image-classification-0001.params\"\u001b[0m\n",
      "\u001b[31m2018-12-18 08:11:13 Epoch[1] Batch [20]#011Speed: 109.934 samples/sec#011accuracy=0.960317\u001b[0m\n",
      "\u001b[31m[12/18/2018 08:11:13 INFO 139732386527040] Epoch[1] Batch [20]#011Speed: 109.934 samples/sec#011accuracy=0.960317\u001b[0m\n",
      "\u001b[31m2018-12-18 08:11:15 Epoch[1] Batch [40]#011Speed: 111.368 samples/sec#011accuracy=0.963415\u001b[0m\n",
      "\u001b[31m[12/18/2018 08:11:15 INFO 139732386527040] Epoch[1] Batch [40]#011Speed: 111.368 samples/sec#011accuracy=0.963415\u001b[0m\n",
      "\u001b[31m2018-12-18 08:11:17 Epoch[1] Batch [60]#011Speed: 112.370 samples/sec#011accuracy=0.969945\u001b[0m\n",
      "\u001b[31m[12/18/2018 08:11:17 INFO 139732386527040] Epoch[1] Batch [60]#011Speed: 112.370 samples/sec#011accuracy=0.969945\u001b[0m\n",
      "\u001b[31m2018-12-18 08:11:19 Epoch[1] Batch [80]#011Speed: 112.734 samples/sec#011accuracy=0.972222\u001b[0m\n",
      "\u001b[31m[12/18/2018 08:11:19 INFO 139732386527040] Epoch[1] Batch [80]#011Speed: 112.734 samples/sec#011accuracy=0.972222\u001b[0m\n",
      "\u001b[31m2018-12-18 08:11:21 Epoch[1] Batch [100]#011Speed: 112.970 samples/sec#011accuracy=0.975248\u001b[0m\n",
      "\u001b[31m[12/18/2018 08:11:21 INFO 139732386527040] Epoch[1] Batch [100]#011Speed: 112.970 samples/sec#011accuracy=0.975248\u001b[0m\n",
      "\u001b[31m2018-12-18 08:11:24 Epoch[1] Batch [120]#011Speed: 113.137 samples/sec#011accuracy=0.968320\u001b[0m\n",
      "\u001b[31m[12/18/2018 08:11:24 INFO 139732386527040] Epoch[1] Batch [120]#011Speed: 113.137 samples/sec#011accuracy=0.968320\u001b[0m\n",
      "\u001b[31m2018-12-18 08:11:26 Epoch[1] Batch [140]#011Speed: 113.273 samples/sec#011accuracy=0.968676\u001b[0m\n",
      "\u001b[31m[12/18/2018 08:11:26 INFO 139732386527040] Epoch[1] Batch [140]#011Speed: 113.273 samples/sec#011accuracy=0.968676\u001b[0m\n",
      "\u001b[31m2018-12-18 08:11:28 Epoch[1] Batch [160]#011Speed: 113.348 samples/sec#011accuracy=0.970497\u001b[0m\n",
      "\u001b[31m[12/18/2018 08:11:28 INFO 139732386527040] Epoch[1] Batch [160]#011Speed: 113.348 samples/sec#011accuracy=0.970497\u001b[0m\n",
      "\u001b[31m[12/18/2018 08:11:30 INFO 139732386527040] Epoch[1] Batch [180]#011Speed: 113.420 samples/sec#011accuracy=0.969153\u001b[0m\n",
      "\u001b[31m2018-12-18 08:11:30 Epoch[1] Batch [180]#011Speed: 113.420 samples/sec#011accuracy=0.969153\u001b[0m\n",
      "\u001b[31m2018-12-18 08:11:32 Epoch[1] Batch [200]#011Speed: 113.358 samples/sec#011accuracy=0.969320\u001b[0m\n",
      "\u001b[31m[12/18/2018 08:11:32 INFO 139732386527040] Epoch[1] Batch [200]#011Speed: 113.358 samples/sec#011accuracy=0.969320\u001b[0m\n",
      "\u001b[31m2018-12-18 08:11:34 Epoch[1] Batch [220]#011Speed: 113.478 samples/sec#011accuracy=0.969080\u001b[0m\n",
      "\u001b[31m[12/18/2018 08:11:34 INFO 139732386527040] Epoch[1] Batch [220]#011Speed: 113.478 samples/sec#011accuracy=0.969080\u001b[0m\n",
      "\u001b[31m2018-12-18 08:11:36 Epoch[1] Batch [240]#011Speed: 113.505 samples/sec#011accuracy=0.968534\u001b[0m\n",
      "\u001b[31m[12/18/2018 08:11:36 INFO 139732386527040] Epoch[1] Batch [240]#011Speed: 113.505 samples/sec#011accuracy=0.968534\u001b[0m\n",
      "\u001b[31m2018-12-18 08:11:38 Epoch[1] Batch [260]#011Speed: 113.625 samples/sec#011accuracy=0.968072\u001b[0m\n",
      "\u001b[31m[12/18/2018 08:11:38 INFO 139732386527040] Epoch[1] Batch [260]#011Speed: 113.625 samples/sec#011accuracy=0.968072\u001b[0m\n",
      "\u001b[31m2018-12-18 08:11:40 Epoch[1] Train-accuracy=0.968111\u001b[0m\n",
      "\u001b[31m2018-12-18 08:11:40 Epoch[1] Time cost=29.108\u001b[0m\n",
      "\u001b[31m[12/18/2018 08:11:40 INFO 139732386527040] Epoch[1] Train-accuracy=0.968111\u001b[0m\n",
      "\u001b[31m[12/18/2018 08:11:40 INFO 139732386527040] Epoch[1] Time cost=29.108\u001b[0m\n",
      "\u001b[31m2018-12-18 08:11:41 Epoch[1] Validation-accuracy=0.978495\u001b[0m\n",
      "\u001b[31m[12/18/2018 08:11:41 INFO 139732386527040] Epoch[1] Validation-accuracy=0.978495\u001b[0m\n",
      "\n",
      "2018-12-18 08:11:54 Uploading - Uploading generated training model\n",
      "2018-12-18 08:11:54 Completed - Training job completed\n",
      "Billable seconds: 196\n"
     ]
    }
   ],
   "source": [
    "ic.fit(inputs=data_channels, logs=True)"
   ]
  },
  {
   "cell_type": "markdown",
   "metadata": {},
   "source": [
    "# Inference\n",
    "\n",
    "***\n",
    "\n",
    "A trained model does nothing on its own. We now want to use the model to perform inference. For this example, that means predicting the class of the image. You can deploy the created model by using the deploy method in the estimator"
   ]
  },
  {
   "cell_type": "code",
   "execution_count": null,
   "metadata": {},
   "outputs": [],
   "source": [
    "ic_classifier = ic.deploy(initial_instance_count = 1,\n",
    "                                          instance_type = 'ml.m4.xlarge')"
   ]
  },
  {
   "cell_type": "markdown",
   "metadata": {},
   "source": [
    "### Clean up\n",
    "\n",
    "When we're done with the endpoint, we can just delete it and the backing instances will be released.  Run the following cell to delete the endpoint."
   ]
  },
  {
   "cell_type": "code",
   "execution_count": null,
   "metadata": {},
   "outputs": [],
   "source": [
    "ic_classifier.delete_endpoint()"
   ]
  }
 ],
 "metadata": {
  "kernelspec": {
   "display_name": "conda_mxnet_p36",
   "language": "python",
   "name": "conda_mxnet_p36"
  },
  "language_info": {
   "codemirror_mode": {
    "name": "ipython",
    "version": 3
   },
   "file_extension": ".py",
   "mimetype": "text/x-python",
   "name": "python",
   "nbconvert_exporter": "python",
   "pygments_lexer": "ipython3",
   "version": "3.6.5"
  },
  "notice": "Copyright 2018 Amazon.com, Inc. or its affiliates. All Rights Reserved.  Licensed under the Apache License, Version 2.0 (the \"License\"). You may not use this file except in compliance with the License. A copy of the License is located at http://aws.amazon.com/apache2.0/ or in the \"license\" file accompanying this file. This file is distributed on an \"AS IS\" BASIS, WITHOUT WARRANTIES OR CONDITIONS OF ANY KIND, either express or implied. See the License for the specific language governing permissions and limitations under the License."
 },
 "nbformat": 4,
 "nbformat_minor": 2
}
